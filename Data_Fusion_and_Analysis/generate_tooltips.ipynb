{
 "cells": [
  {
   "cell_type": "code",
   "execution_count": 47,
   "metadata": {},
   "outputs": [],
   "source": [
    "import pandas as pd\n"
   ]
  },
  {
   "cell_type": "code",
   "execution_count": 48,
   "metadata": {},
   "outputs": [],
   "source": [
    "df =pd.read_csv('standardised_gtd.csv',low_memory=False)\n",
    "df2 = pd.read_csv('standardised_lat.csv',low_memory=False, encoding='ISO-8859-1')\n",
    "df3 = pd.read_csv('standardised_sat.csv',low_memory=False)"
   ]
  },
  {
   "cell_type": "code",
   "execution_count": 49,
   "metadata": {},
   "outputs": [],
   "source": [
    "sat = df3.copy()\n",
    "\n",
    "tooltip_content = []\n",
    "for index, row in sat.iterrows():\n",
    "    tooltip_html = f\"{row['Year']} - {row['importer']} <br />\" \\\n",
    "                   f\"Weapons Type: {row['Weapons_Type']} <br />\" \\\n",
    "                   f\"Units: {row['Units']} <br />\" \\\n",
    "                   f\"Value: ${row['Value']} <br />\" \\\n",
    "                   f\"Exporter: {row['exporter']}\"\n",
    "    tooltip_content.append(tooltip_html)\n",
    "\n",
    "sat['tooltip'] = tooltip_content\n",
    "\n",
    "sat = sat[['importer', 'exporter', 'latitude_importer', 'longitude_importer', \n",
    "           'latitude_exporter', 'longitude_exporter', 'Year', 'Value', 'tooltip']]"
   ]
  },
  {
   "cell_type": "code",
   "execution_count": 39,
   "metadata": {},
   "outputs": [],
   "source": [
    "gtd = df.copy()\n",
    "tooltip_content = []\n",
    "for index, row in gtd.iterrows():\n",
    "    tooltip_html = f\"{row['iyear']} - {row['country']} <br />\" \\\n",
    "                   f\"Kills: {row['nkill']} <br />\" \\\n",
    "                   f\"Wounds: {row['nwound']} <br />\" \\\n",
    "                   f\"Summary: {row['summary']} <br />\" \\\n",
    "                   f\"Group Name: {row['gname']} <br />\" \\\n",
    "                   f\"Motive: {row['motive']}\"\n",
    "    tooltip_content.append(tooltip_html)\n",
    "\n",
    "gtd['tooltip'] = tooltip_content\n",
    "\n",
    "gtd = gtd[['country', 'iyear', 'latitude', 'longitude', 'tooltip']]\n"
   ]
  },
  {
   "cell_type": "code",
   "execution_count": 53,
   "metadata": {},
   "outputs": [],
   "source": [
    "lat = df2.copy()\n",
    "tooltip_content = []\n",
    "for index, row in lat.iterrows():\n",
    "    tooltip_html = f\"{row['Year of order']} - {row['importer']} <br />\" \\\n",
    "                   f\"Weapon Designation: {row['Weapon designation']} <br />\" \\\n",
    "                   f\"Weapon Description: {row['Weapon description']} <br />\" \\\n",
    "                   f\"Number Delivered: {row['Number delivered']} <br />\" \\\n",
    "                   f\"SIPRI TIV of Delivered Weapons: {row['SIPRI TIV of delivered weapons']}\"\n",
    "    tooltip_content.append(tooltip_html)\n",
    "\n",
    "lat['tooltip'] = tooltip_content\n",
    "\n",
    "lat = lat[['importer', 'exporter', 'latitude_importer', 'longitude_importer', \n",
    "           'latitude_exporter', 'longitude_exporter', 'Year of order', \n",
    "           'SIPRI TIV of delivered weapons', 'tooltip']]"
   ]
  }
 ],
 "metadata": {
  "kernelspec": {
   "display_name": "Python 3 (ipykernel)",
   "language": "python",
   "name": "python3"
  },
  "language_info": {
   "codemirror_mode": {
    "name": "ipython",
    "version": 3
   },
   "file_extension": ".py",
   "mimetype": "text/x-python",
   "name": "python",
   "nbconvert_exporter": "python",
   "pygments_lexer": "ipython3",
   "version": "3.11.4"
  }
 },
 "nbformat": 4,
 "nbformat_minor": 2
}
